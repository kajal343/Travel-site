{
 "cells": [
  {
   "cell_type": "code",
   "execution_count": 1,
   "id": "46e6740f",
   "metadata": {},
   "outputs": [],
   "source": [
    "import pandas as pd\n",
    "from IPython.display import HTML\n",
    "from PIL import Image\n",
    "from IPython.display import display\n"
   ]
  },
  {
   "cell_type": "code",
   "execution_count": 2,
   "id": "abcb1a12",
   "metadata": {},
   "outputs": [],
   "source": [
    "hotels=pd.read_csv(r\"C:\\Users\\Dell\\Downloads\\archive (2)\\Hotels.csv\")"
   ]
  },
  {
   "cell_type": "code",
   "execution_count": 3,
   "id": "292229bd",
   "metadata": {},
   "outputs": [
    {
     "data": {
      "text/html": [
       "<div>\n",
       "<style scoped>\n",
       "    .dataframe tbody tr th:only-of-type {\n",
       "        vertical-align: middle;\n",
       "    }\n",
       "\n",
       "    .dataframe tbody tr th {\n",
       "        vertical-align: top;\n",
       "    }\n",
       "\n",
       "    .dataframe thead th {\n",
       "        text-align: right;\n",
       "    }\n",
       "</style>\n",
       "<table border=\"1\" class=\"dataframe\">\n",
       "  <thead>\n",
       "    <tr style=\"text-align: right;\">\n",
       "      <th></th>\n",
       "      <th>HID</th>\n",
       "      <th>HOTEL</th>\n",
       "      <th>PRICE_RUPEES</th>\n",
       "      <th>NUMBER_OF_REVIEWS</th>\n",
       "      <th>Lat</th>\n",
       "      <th>Lng</th>\n",
       "    </tr>\n",
       "  </thead>\n",
       "  <tbody>\n",
       "    <tr>\n",
       "      <th>0</th>\n",
       "      <td>HID1</td>\n",
       "      <td>HOTEL ANURAAG VILLA JAIPUR</td>\n",
       "      <td>898.92</td>\n",
       "      <td>1305</td>\n",
       "      <td>26.927230</td>\n",
       "      <td>75.789207</td>\n",
       "    </tr>\n",
       "    <tr>\n",
       "      <th>1</th>\n",
       "      <td>HID2</td>\n",
       "      <td>HILTON JAIPUR</td>\n",
       "      <td>2771.67</td>\n",
       "      <td>4358</td>\n",
       "      <td>26.973697</td>\n",
       "      <td>75.844382</td>\n",
       "    </tr>\n",
       "    <tr>\n",
       "      <th>2</th>\n",
       "      <td>HID3</td>\n",
       "      <td>TRIDENT, JAIPUR</td>\n",
       "      <td>4120.05</td>\n",
       "      <td>499</td>\n",
       "      <td>26.957344</td>\n",
       "      <td>75.842886</td>\n",
       "    </tr>\n",
       "    <tr>\n",
       "      <th>3</th>\n",
       "      <td>HID4</td>\n",
       "      <td>THE FERN RESIDENCY JAIPUR</td>\n",
       "      <td>2172.39</td>\n",
       "      <td>278</td>\n",
       "      <td>26.874359</td>\n",
       "      <td>75.816421</td>\n",
       "    </tr>\n",
       "    <tr>\n",
       "      <th>4</th>\n",
       "      <td>HID5</td>\n",
       "      <td>ITC RAJPUTANA, JAIPUR A LUXURY COLLECTION HOTE...</td>\n",
       "      <td>3221.13</td>\n",
       "      <td>6189</td>\n",
       "      <td>26.919313</td>\n",
       "      <td>75.791175</td>\n",
       "    </tr>\n",
       "    <tr>\n",
       "      <th>...</th>\n",
       "      <td>...</td>\n",
       "      <td>...</td>\n",
       "      <td>...</td>\n",
       "      <td>...</td>\n",
       "      <td>...</td>\n",
       "      <td>...</td>\n",
       "    </tr>\n",
       "    <tr>\n",
       "      <th>249</th>\n",
       "      <td>HID250</td>\n",
       "      <td>COMFORT INN SAPPHIRE JAIPUR</td>\n",
       "      <td>2771.67</td>\n",
       "      <td>130</td>\n",
       "      <td>26.917760</td>\n",
       "      <td>75.811170</td>\n",
       "    </tr>\n",
       "    <tr>\n",
       "      <th>250</th>\n",
       "      <td>HID251</td>\n",
       "      <td>HOUSETEL JAIPUR</td>\n",
       "      <td>674.19</td>\n",
       "      <td>44</td>\n",
       "      <td>26.906001</td>\n",
       "      <td>75.802107</td>\n",
       "    </tr>\n",
       "    <tr>\n",
       "      <th>251</th>\n",
       "      <td>HID252</td>\n",
       "      <td>GIRISADAN HOMESTAY JAIPUR</td>\n",
       "      <td>4494.60</td>\n",
       "      <td>238</td>\n",
       "      <td>26.912570</td>\n",
       "      <td>75.796529</td>\n",
       "    </tr>\n",
       "    <tr>\n",
       "      <th>252</th>\n",
       "      <td>HID253</td>\n",
       "      <td>THE HOSTELLER JAIPUR</td>\n",
       "      <td>449.00</td>\n",
       "      <td>143</td>\n",
       "      <td>26.918242</td>\n",
       "      <td>75.799674</td>\n",
       "    </tr>\n",
       "    <tr>\n",
       "      <th>253</th>\n",
       "      <td>HID254</td>\n",
       "      <td>HOZTEL JAIPUR</td>\n",
       "      <td>150.00</td>\n",
       "      <td>128</td>\n",
       "      <td>26.930574</td>\n",
       "      <td>75.791244</td>\n",
       "    </tr>\n",
       "  </tbody>\n",
       "</table>\n",
       "<p>254 rows × 6 columns</p>\n",
       "</div>"
      ],
      "text/plain": [
       "        HID                                              HOTEL  PRICE_RUPEES  \\\n",
       "0      HID1                         HOTEL ANURAAG VILLA JAIPUR        898.92   \n",
       "1      HID2                                      HILTON JAIPUR       2771.67   \n",
       "2      HID3                                    TRIDENT, JAIPUR       4120.05   \n",
       "3      HID4                          THE FERN RESIDENCY JAIPUR       2172.39   \n",
       "4      HID5  ITC RAJPUTANA, JAIPUR A LUXURY COLLECTION HOTE...       3221.13   \n",
       "..      ...                                                ...           ...   \n",
       "249  HID250                        COMFORT INN SAPPHIRE JAIPUR       2771.67   \n",
       "250  HID251                                    HOUSETEL JAIPUR        674.19   \n",
       "251  HID252                          GIRISADAN HOMESTAY JAIPUR       4494.60   \n",
       "252  HID253                               THE HOSTELLER JAIPUR        449.00   \n",
       "253  HID254                                      HOZTEL JAIPUR        150.00   \n",
       "\n",
       "     NUMBER_OF_REVIEWS        Lat        Lng  \n",
       "0                 1305  26.927230  75.789207  \n",
       "1                 4358  26.973697  75.844382  \n",
       "2                  499  26.957344  75.842886  \n",
       "3                  278  26.874359  75.816421  \n",
       "4                 6189  26.919313  75.791175  \n",
       "..                 ...        ...        ...  \n",
       "249                130  26.917760  75.811170  \n",
       "250                 44  26.906001  75.802107  \n",
       "251                238  26.912570  75.796529  \n",
       "252                143  26.918242  75.799674  \n",
       "253                128  26.930574  75.791244  \n",
       "\n",
       "[254 rows x 6 columns]"
      ]
     },
     "execution_count": 3,
     "metadata": {},
     "output_type": "execute_result"
    }
   ],
   "source": [
    "hotels"
   ]
  },
  {
   "cell_type": "code",
   "execution_count": 4,
   "id": "07f11b9b",
   "metadata": {},
   "outputs": [
    {
     "data": {
      "text/html": [
       "<div>\n",
       "<style scoped>\n",
       "    .dataframe tbody tr th:only-of-type {\n",
       "        vertical-align: middle;\n",
       "    }\n",
       "\n",
       "    .dataframe tbody tr th {\n",
       "        vertical-align: top;\n",
       "    }\n",
       "\n",
       "    .dataframe thead th {\n",
       "        text-align: right;\n",
       "    }\n",
       "</style>\n",
       "<table border=\"1\" class=\"dataframe\">\n",
       "  <thead>\n",
       "    <tr style=\"text-align: right;\">\n",
       "      <th></th>\n",
       "      <th>HID</th>\n",
       "      <th>HOTEL</th>\n",
       "      <th>PRICE_RUPEES</th>\n",
       "      <th>NUMBER_OF_REVIEWS</th>\n",
       "      <th>Lat</th>\n",
       "      <th>Lng</th>\n",
       "    </tr>\n",
       "  </thead>\n",
       "  <tbody>\n",
       "    <tr>\n",
       "      <th>0</th>\n",
       "      <td>HID1</td>\n",
       "      <td>HOTEL ANURAAG VILLA JAIPUR</td>\n",
       "      <td>898.92</td>\n",
       "      <td>1305</td>\n",
       "      <td>26.927230</td>\n",
       "      <td>75.789207</td>\n",
       "    </tr>\n",
       "    <tr>\n",
       "      <th>1</th>\n",
       "      <td>HID2</td>\n",
       "      <td>HILTON JAIPUR</td>\n",
       "      <td>2771.67</td>\n",
       "      <td>4358</td>\n",
       "      <td>26.973697</td>\n",
       "      <td>75.844382</td>\n",
       "    </tr>\n",
       "    <tr>\n",
       "      <th>2</th>\n",
       "      <td>HID3</td>\n",
       "      <td>TRIDENT, JAIPUR</td>\n",
       "      <td>4120.05</td>\n",
       "      <td>499</td>\n",
       "      <td>26.957344</td>\n",
       "      <td>75.842886</td>\n",
       "    </tr>\n",
       "    <tr>\n",
       "      <th>3</th>\n",
       "      <td>HID4</td>\n",
       "      <td>THE FERN RESIDENCY JAIPUR</td>\n",
       "      <td>2172.39</td>\n",
       "      <td>278</td>\n",
       "      <td>26.874359</td>\n",
       "      <td>75.816421</td>\n",
       "    </tr>\n",
       "    <tr>\n",
       "      <th>4</th>\n",
       "      <td>HID5</td>\n",
       "      <td>ITC RAJPUTANA, JAIPUR A LUXURY COLLECTION HOTE...</td>\n",
       "      <td>3221.13</td>\n",
       "      <td>6189</td>\n",
       "      <td>26.919313</td>\n",
       "      <td>75.791175</td>\n",
       "    </tr>\n",
       "    <tr>\n",
       "      <th>...</th>\n",
       "      <td>...</td>\n",
       "      <td>...</td>\n",
       "      <td>...</td>\n",
       "      <td>...</td>\n",
       "      <td>...</td>\n",
       "      <td>...</td>\n",
       "    </tr>\n",
       "    <tr>\n",
       "      <th>249</th>\n",
       "      <td>HID250</td>\n",
       "      <td>COMFORT INN SAPPHIRE JAIPUR</td>\n",
       "      <td>2771.67</td>\n",
       "      <td>130</td>\n",
       "      <td>26.917760</td>\n",
       "      <td>75.811170</td>\n",
       "    </tr>\n",
       "    <tr>\n",
       "      <th>250</th>\n",
       "      <td>HID251</td>\n",
       "      <td>HOUSETEL JAIPUR</td>\n",
       "      <td>674.19</td>\n",
       "      <td>44</td>\n",
       "      <td>26.906001</td>\n",
       "      <td>75.802107</td>\n",
       "    </tr>\n",
       "    <tr>\n",
       "      <th>251</th>\n",
       "      <td>HID252</td>\n",
       "      <td>GIRISADAN HOMESTAY JAIPUR</td>\n",
       "      <td>4494.60</td>\n",
       "      <td>238</td>\n",
       "      <td>26.912570</td>\n",
       "      <td>75.796529</td>\n",
       "    </tr>\n",
       "    <tr>\n",
       "      <th>252</th>\n",
       "      <td>HID253</td>\n",
       "      <td>THE HOSTELLER JAIPUR</td>\n",
       "      <td>449.00</td>\n",
       "      <td>143</td>\n",
       "      <td>26.918242</td>\n",
       "      <td>75.799674</td>\n",
       "    </tr>\n",
       "    <tr>\n",
       "      <th>253</th>\n",
       "      <td>HID254</td>\n",
       "      <td>HOZTEL JAIPUR</td>\n",
       "      <td>150.00</td>\n",
       "      <td>128</td>\n",
       "      <td>26.930574</td>\n",
       "      <td>75.791244</td>\n",
       "    </tr>\n",
       "  </tbody>\n",
       "</table>\n",
       "<p>254 rows × 6 columns</p>\n",
       "</div>"
      ],
      "text/plain": [
       "        HID                                              HOTEL  PRICE_RUPEES  \\\n",
       "0      HID1                         HOTEL ANURAAG VILLA JAIPUR        898.92   \n",
       "1      HID2                                      HILTON JAIPUR       2771.67   \n",
       "2      HID3                                    TRIDENT, JAIPUR       4120.05   \n",
       "3      HID4                          THE FERN RESIDENCY JAIPUR       2172.39   \n",
       "4      HID5  ITC RAJPUTANA, JAIPUR A LUXURY COLLECTION HOTE...       3221.13   \n",
       "..      ...                                                ...           ...   \n",
       "249  HID250                        COMFORT INN SAPPHIRE JAIPUR       2771.67   \n",
       "250  HID251                                    HOUSETEL JAIPUR        674.19   \n",
       "251  HID252                          GIRISADAN HOMESTAY JAIPUR       4494.60   \n",
       "252  HID253                               THE HOSTELLER JAIPUR        449.00   \n",
       "253  HID254                                      HOZTEL JAIPUR        150.00   \n",
       "\n",
       "     NUMBER_OF_REVIEWS        Lat        Lng  \n",
       "0                 1305  26.927230  75.789207  \n",
       "1                 4358  26.973697  75.844382  \n",
       "2                  499  26.957344  75.842886  \n",
       "3                  278  26.874359  75.816421  \n",
       "4                 6189  26.919313  75.791175  \n",
       "..                 ...        ...        ...  \n",
       "249                130  26.917760  75.811170  \n",
       "250                 44  26.906001  75.802107  \n",
       "251                238  26.912570  75.796529  \n",
       "252                143  26.918242  75.799674  \n",
       "253                128  26.930574  75.791244  \n",
       "\n",
       "[254 rows x 6 columns]"
      ]
     },
     "execution_count": 4,
     "metadata": {},
     "output_type": "execute_result"
    }
   ],
   "source": [
    "hotels.drop_duplicates()"
   ]
  },
  {
   "cell_type": "code",
   "execution_count": null,
   "id": "f0d45dc4",
   "metadata": {},
   "outputs": [],
   "source": []
  },
  {
   "cell_type": "code",
   "execution_count": 5,
   "id": "a66d1a83",
   "metadata": {},
   "outputs": [
    {
     "data": {
      "text/html": [
       "<div>\n",
       "<style scoped>\n",
       "    .dataframe tbody tr th:only-of-type {\n",
       "        vertical-align: middle;\n",
       "    }\n",
       "\n",
       "    .dataframe tbody tr th {\n",
       "        vertical-align: top;\n",
       "    }\n",
       "\n",
       "    .dataframe thead th {\n",
       "        text-align: right;\n",
       "    }\n",
       "</style>\n",
       "<table border=\"1\" class=\"dataframe\">\n",
       "  <thead>\n",
       "    <tr style=\"text-align: right;\">\n",
       "      <th></th>\n",
       "      <th>HID</th>\n",
       "      <th>HOTEL</th>\n",
       "      <th>PRICE_RUPEES</th>\n",
       "      <th>NUMBER_OF_REVIEWS</th>\n",
       "      <th>Lat</th>\n",
       "      <th>Lng</th>\n",
       "    </tr>\n",
       "  </thead>\n",
       "  <tbody>\n",
       "    <tr>\n",
       "      <th>0</th>\n",
       "      <td>HID1</td>\n",
       "      <td>HOTEL ANURAAG VILLA JAIPUR</td>\n",
       "      <td>898.92</td>\n",
       "      <td>1305</td>\n",
       "      <td>26.927230</td>\n",
       "      <td>75.789207</td>\n",
       "    </tr>\n",
       "    <tr>\n",
       "      <th>1</th>\n",
       "      <td>HID2</td>\n",
       "      <td>HILTON JAIPUR</td>\n",
       "      <td>2771.67</td>\n",
       "      <td>4358</td>\n",
       "      <td>26.973697</td>\n",
       "      <td>75.844382</td>\n",
       "    </tr>\n",
       "    <tr>\n",
       "      <th>2</th>\n",
       "      <td>HID3</td>\n",
       "      <td>TRIDENT, JAIPUR</td>\n",
       "      <td>4120.05</td>\n",
       "      <td>499</td>\n",
       "      <td>26.957344</td>\n",
       "      <td>75.842886</td>\n",
       "    </tr>\n",
       "    <tr>\n",
       "      <th>3</th>\n",
       "      <td>HID4</td>\n",
       "      <td>THE FERN RESIDENCY JAIPUR</td>\n",
       "      <td>2172.39</td>\n",
       "      <td>278</td>\n",
       "      <td>26.874359</td>\n",
       "      <td>75.816421</td>\n",
       "    </tr>\n",
       "    <tr>\n",
       "      <th>4</th>\n",
       "      <td>HID5</td>\n",
       "      <td>ITC RAJPUTANA, JAIPUR A LUXURY COLLECTION HOTE...</td>\n",
       "      <td>3221.13</td>\n",
       "      <td>6189</td>\n",
       "      <td>26.919313</td>\n",
       "      <td>75.791175</td>\n",
       "    </tr>\n",
       "    <tr>\n",
       "      <th>...</th>\n",
       "      <td>...</td>\n",
       "      <td>...</td>\n",
       "      <td>...</td>\n",
       "      <td>...</td>\n",
       "      <td>...</td>\n",
       "      <td>...</td>\n",
       "    </tr>\n",
       "    <tr>\n",
       "      <th>249</th>\n",
       "      <td>HID250</td>\n",
       "      <td>COMFORT INN SAPPHIRE JAIPUR</td>\n",
       "      <td>2771.67</td>\n",
       "      <td>130</td>\n",
       "      <td>26.917760</td>\n",
       "      <td>75.811170</td>\n",
       "    </tr>\n",
       "    <tr>\n",
       "      <th>250</th>\n",
       "      <td>HID251</td>\n",
       "      <td>HOUSETEL JAIPUR</td>\n",
       "      <td>674.19</td>\n",
       "      <td>44</td>\n",
       "      <td>26.906001</td>\n",
       "      <td>75.802107</td>\n",
       "    </tr>\n",
       "    <tr>\n",
       "      <th>251</th>\n",
       "      <td>HID252</td>\n",
       "      <td>GIRISADAN HOMESTAY JAIPUR</td>\n",
       "      <td>4494.60</td>\n",
       "      <td>238</td>\n",
       "      <td>26.912570</td>\n",
       "      <td>75.796529</td>\n",
       "    </tr>\n",
       "    <tr>\n",
       "      <th>252</th>\n",
       "      <td>HID253</td>\n",
       "      <td>THE HOSTELLER JAIPUR</td>\n",
       "      <td>449.00</td>\n",
       "      <td>143</td>\n",
       "      <td>26.918242</td>\n",
       "      <td>75.799674</td>\n",
       "    </tr>\n",
       "    <tr>\n",
       "      <th>253</th>\n",
       "      <td>HID254</td>\n",
       "      <td>HOZTEL JAIPUR</td>\n",
       "      <td>150.00</td>\n",
       "      <td>128</td>\n",
       "      <td>26.930574</td>\n",
       "      <td>75.791244</td>\n",
       "    </tr>\n",
       "  </tbody>\n",
       "</table>\n",
       "<p>254 rows × 6 columns</p>\n",
       "</div>"
      ],
      "text/plain": [
       "        HID                                              HOTEL  PRICE_RUPEES  \\\n",
       "0      HID1                         HOTEL ANURAAG VILLA JAIPUR        898.92   \n",
       "1      HID2                                      HILTON JAIPUR       2771.67   \n",
       "2      HID3                                    TRIDENT, JAIPUR       4120.05   \n",
       "3      HID4                          THE FERN RESIDENCY JAIPUR       2172.39   \n",
       "4      HID5  ITC RAJPUTANA, JAIPUR A LUXURY COLLECTION HOTE...       3221.13   \n",
       "..      ...                                                ...           ...   \n",
       "249  HID250                        COMFORT INN SAPPHIRE JAIPUR       2771.67   \n",
       "250  HID251                                    HOUSETEL JAIPUR        674.19   \n",
       "251  HID252                          GIRISADAN HOMESTAY JAIPUR       4494.60   \n",
       "252  HID253                               THE HOSTELLER JAIPUR        449.00   \n",
       "253  HID254                                      HOZTEL JAIPUR        150.00   \n",
       "\n",
       "     NUMBER_OF_REVIEWS        Lat        Lng  \n",
       "0                 1305  26.927230  75.789207  \n",
       "1                 4358  26.973697  75.844382  \n",
       "2                  499  26.957344  75.842886  \n",
       "3                  278  26.874359  75.816421  \n",
       "4                 6189  26.919313  75.791175  \n",
       "..                 ...        ...        ...  \n",
       "249                130  26.917760  75.811170  \n",
       "250                 44  26.906001  75.802107  \n",
       "251                238  26.912570  75.796529  \n",
       "252                143  26.918242  75.799674  \n",
       "253                128  26.930574  75.791244  \n",
       "\n",
       "[254 rows x 6 columns]"
      ]
     },
     "execution_count": 5,
     "metadata": {},
     "output_type": "execute_result"
    }
   ],
   "source": [
    "hotels"
   ]
  },
  {
   "cell_type": "code",
   "execution_count": 6,
   "id": "487231fe",
   "metadata": {},
   "outputs": [],
   "source": [
    "def recommend_hotels(df,min_price,max_price,top_n=10):\n",
    "    recommended_hotels= df[ (df[\"PRICE_RUPEES\"]>=min_price) & (df[\"PRICE_RUPEES\"]<=max_price) ]\n",
    "    recommended_hotels= recommended_hotels.sort_values(by=\"NUMBER_OF_REVIEWS\",ascending=False).head(top_n)\n",
    "    recommended_hotels= recommended_hotels.drop(columns=[\"NUMBER_OF_REVIEWS\"])\n",
    "#     if not recommended_hotels.empty:\n",
    "#         print(recommended_hotels.to_string(index=False))\n",
    "#         print()\n",
    "#         link = f'<a href=\"https://www.google.com/maps/@{recommended_hotels[\"Lat\"]},{recommended_hotels[\"Lng\"]},17z\">{recommended_hotels[\"HOTEL\"]}</a>'\n",
    "#         content=f\"location: {link}\"\n",
    "#         display(HTML(content))\n",
    "#     else:\n",
    "#         print(\"sorry, hotels are  not available in this price range...\")\n",
    "    if not recommended_hotels.empty:\n",
    "        print()\n",
    "        print(\"Recommended Hotels:\")\n",
    "        count=1\n",
    "        for index, row in recommended_hotels.iterrows():\n",
    "\n",
    "            place_name = row['HOTEL']\n",
    "            price=row[\"PRICE_RUPEES\"]\n",
    "            print()\n",
    "        \n",
    "            print(f\"{count}.hotel name: {place_name}\")\n",
    "            print(f\"price: Rs {price}\")\n",
    "            link = f'<a href=\"https://www.google.com/maps/@{row[\"Lat\"]},{row[\"Lng\"]},17z\">{row[\"HOTEL\"]}</a>'\n",
    "            content=f\"location: {link}\"\n",
    "            display(HTML(content))\n",
    "            print()\n",
    "            count=count+1\n",
    "    else:\n",
    "        print(\"No recommendations found for the given preferences.\")"
   ]
  },
  {
   "cell_type": "code",
   "execution_count": 7,
   "id": "e151c8d3",
   "metadata": {},
   "outputs": [
    {
     "name": "stdout",
     "output_type": "stream",
     "text": [
      "enter min price:100\n",
      "enter max price:700\n",
      "\n",
      "Recommended Hotels:\n",
      "\n",
      "1.hotel name: NAHAR SINGH HAVELI JAIPUR\n",
      "price: Rs 599.28\n"
     ]
    },
    {
     "data": {
      "text/html": [
       "location: <a href=\"https://www.google.com/maps/@26.924634,75.7967434,17z\">NAHAR SINGH HAVELI JAIPUR</a>"
      ],
      "text/plain": [
       "<IPython.core.display.HTML object>"
      ]
     },
     "metadata": {},
     "output_type": "display_data"
    },
    {
     "name": "stdout",
     "output_type": "stream",
     "text": [
      "\n",
      "\n",
      "2.hotel name: HOTEL MOON LIGHT PALACE JAIPUR\n",
      "price: Rs 599.28\n"
     ]
    },
    {
     "data": {
      "text/html": [
       "location: <a href=\"https://www.google.com/maps/@26.9150958,75.778611,17z\">HOTEL MOON LIGHT PALACE JAIPUR</a>"
      ],
      "text/plain": [
       "<IPython.core.display.HTML object>"
      ]
     },
     "metadata": {},
     "output_type": "display_data"
    },
    {
     "name": "stdout",
     "output_type": "stream",
     "text": [
      "\n",
      "\n",
      "3.hotel name: HOTEL SUGANDH RETREAT JAIPUR\n",
      "price: Rs 599.28\n"
     ]
    },
    {
     "data": {
      "text/html": [
       "location: <a href=\"https://www.google.com/maps/@26.9211516,75.8025678,17z\">HOTEL SUGANDH RETREAT JAIPUR</a>"
      ],
      "text/plain": [
       "<IPython.core.display.HTML object>"
      ]
     },
     "metadata": {},
     "output_type": "display_data"
    },
    {
     "name": "stdout",
     "output_type": "stream",
     "text": [
      "\n",
      "\n",
      "4.hotel name: THE HOSTELLER JAIPUR\n",
      "price: Rs 449.0\n"
     ]
    },
    {
     "data": {
      "text/html": [
       "location: <a href=\"https://www.google.com/maps/@26.918242,75.799674,17z\">THE HOSTELLER JAIPUR</a>"
      ],
      "text/plain": [
       "<IPython.core.display.HTML object>"
      ]
     },
     "metadata": {},
     "output_type": "display_data"
    },
    {
     "name": "stdout",
     "output_type": "stream",
     "text": [
      "\n",
      "\n",
      "5.hotel name: BANI PARK HOTEL JAIPUR\n",
      "price: Rs 224.73\n"
     ]
    },
    {
     "data": {
      "text/html": [
       "location: <a href=\"https://www.google.com/maps/@26.924765,75.789311,17z\">BANI PARK HOTEL JAIPUR</a>"
      ],
      "text/plain": [
       "<IPython.core.display.HTML object>"
      ]
     },
     "metadata": {},
     "output_type": "display_data"
    },
    {
     "name": "stdout",
     "output_type": "stream",
     "text": [
      "\n",
      "\n",
      "6.hotel name: HOZTEL JAIPUR\n",
      "price: Rs 150.0\n"
     ]
    },
    {
     "data": {
      "text/html": [
       "location: <a href=\"https://www.google.com/maps/@26.930574,75.791244,17z\">HOZTEL JAIPUR</a>"
      ],
      "text/plain": [
       "<IPython.core.display.HTML object>"
      ]
     },
     "metadata": {},
     "output_type": "display_data"
    },
    {
     "name": "stdout",
     "output_type": "stream",
     "text": [
      "\n",
      "\n",
      "7.hotel name: RATAN NIWAS JAIPUR\n",
      "price: Rs 524.37\n"
     ]
    },
    {
     "data": {
      "text/html": [
       "location: <a href=\"https://www.google.com/maps/@26.9156418,75.7949142,17z\">RATAN NIWAS JAIPUR</a>"
      ],
      "text/plain": [
       "<IPython.core.display.HTML object>"
      ]
     },
     "metadata": {},
     "output_type": "display_data"
    },
    {
     "name": "stdout",
     "output_type": "stream",
     "text": [
      "\n",
      "\n",
      "8.hotel name: NANUS HOSTEL JAIPUR\n",
      "price: Rs 449.46\n"
     ]
    },
    {
     "data": {
      "text/html": [
       "location: <a href=\"https://www.google.com/maps/@26.9246655,75.7898738,17z\">NANUS HOSTEL JAIPUR</a>"
      ],
      "text/plain": [
       "<IPython.core.display.HTML object>"
      ]
     },
     "metadata": {},
     "output_type": "display_data"
    },
    {
     "name": "stdout",
     "output_type": "stream",
     "text": [
      "\n",
      "\n",
      "9.hotel name: CHITCHAT RESTAURANT & GUEST HOUSE JAIPUR\n",
      "price: Rs 224.73\n"
     ]
    },
    {
     "data": {
      "text/html": [
       "location: <a href=\"https://www.google.com/maps/@26.92507148,75.78949732,17z\">CHITCHAT RESTAURANT & GUEST HOUSE JAIPUR</a>"
      ],
      "text/plain": [
       "<IPython.core.display.HTML object>"
      ]
     },
     "metadata": {},
     "output_type": "display_data"
    },
    {
     "name": "stdout",
     "output_type": "stream",
     "text": [
      "\n",
      "\n",
      "10.hotel name: HOTEL THE ORION JAIPUR\n",
      "price: Rs 599.28\n"
     ]
    },
    {
     "data": {
      "text/html": [
       "location: <a href=\"https://www.google.com/maps/@26.9265653,75.7900734,17z\">HOTEL THE ORION JAIPUR</a>"
      ],
      "text/plain": [
       "<IPython.core.display.HTML object>"
      ]
     },
     "metadata": {},
     "output_type": "display_data"
    },
    {
     "name": "stdout",
     "output_type": "stream",
     "text": [
      "\n"
     ]
    }
   ],
   "source": [
    "min_p=float(input(\"enter min price:\"))\n",
    "max_p=float(input(\"enter max price:\"))\n",
    "recommend_hotels(hotels,min_p,max_p,top_n=10)"
   ]
  },
  {
   "cell_type": "code",
   "execution_count": null,
   "id": "765cdcac",
   "metadata": {},
   "outputs": [],
   "source": []
  },
  {
   "cell_type": "code",
   "execution_count": null,
   "id": "a005047c",
   "metadata": {},
   "outputs": [],
   "source": []
  }
 ],
 "metadata": {
  "kernelspec": {
   "display_name": "Python 3 (ipykernel)",
   "language": "python",
   "name": "python3"
  },
  "language_info": {
   "codemirror_mode": {
    "name": "ipython",
    "version": 3
   },
   "file_extension": ".py",
   "mimetype": "text/x-python",
   "name": "python",
   "nbconvert_exporter": "python",
   "pygments_lexer": "ipython3",
   "version": "3.9.13"
  }
 },
 "nbformat": 4,
 "nbformat_minor": 5
}
